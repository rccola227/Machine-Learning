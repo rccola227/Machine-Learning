{
 "cells": [
  {
   "cell_type": "code",
   "execution_count": 106,
   "metadata": {
    "collapsed": true
   },
   "outputs": [],
   "source": [
    "import pandas as pd\n",
    "import numpy as np\n",
    "import matplotlib.pyplot as plt\n",
    "%matplotlib inline"
   ]
  },
  {
   "cell_type": "code",
   "execution_count": 107,
   "metadata": {
    "collapsed": true
   },
   "outputs": [],
   "source": [
    "def standardize(x):\n",
    "    mean = np.mean(x)\n",
    "    stddev = np.std(x)\n",
    "    Z = (x-mean)/stddev\n",
    "    return Z\n",
    "    "
   ]
  },
  {
   "cell_type": "code",
   "execution_count": 108,
   "metadata": {},
   "outputs": [
    {
     "data": {
      "text/plain": [
       "[<matplotlib.lines.Line2D at 0x293a17f5860>]"
      ]
     },
     "execution_count": 108,
     "metadata": {},
     "output_type": "execute_result"
    },
    {
     "data": {
      "image/png": "[encoded data removed]",
      "text/plain": [
       "<matplotlib.figure.Figure at 0x293a1619f98>"
      ]
     },
     "metadata": {},
     "output_type": "display_data"
    }
   ],
   "source": [
    "data = pd.read_csv('', )\n",
    "data_x =pd.DataFrame(data[\"population\"])\n",
    "data_x[\"x^2\"] = standardize(data[\"population\"]**2)\n",
    "data_x[\"y-int\"] = 1\n",
    "data_y = pd.DataFrame(data[\"profit\"])\n",
    "inputs = np.array(data_x)\n",
    "outputs = np.array(data_y)\n",
    "outputs = outputs.flatten()\n",
    "plt.plot(inputs[:,0], outputs, 'k.')\n",
    "\n"
   ]
  },
  {
   "cell_type": "code",
   "execution_count": 111,
   "metadata": {},
   "outputs": [
    {
     "name": "stdout",
     "output_type": "stream",
     "text": [
      "[  6.11977152  72.19861757  31.11671052]\n",
      "[ 35.17737027  26.48694762  76.56464318  49.50064122  31.37958888]\n",
      "[ 37.33332201  30.55546729  72.56654596  49.04481024  34.33725604]\n",
      "21.6963403712\n"
     ]
    },
    {
     "data": {
      "text/plain": [
       "[<matplotlib.lines.Line2D at 0x293a185bf60>]"
      ]
     },
     "execution_count": 111,
     "metadata": {},
     "output_type": "execute_result"
    },
    {
     "data": {
      "image/png": "[encoded data removed]",
      "text/plain": [
       "<matplotlib.figure.Figure at 0x293a188ae10>"
      ]
     },
     "metadata": {},
     "output_type": "display_data"
    }
   ],
   "source": [
    "def gradDesc(weights, learningRate, epochs):\n",
    "    for r in range(epochs):\n",
    "        hyp = weights.dot(inputs.T)\n",
    "        loss = hyp-outputs\n",
    "        gradients = inputs.T.dot(loss) / len(inputs)\n",
    "        weights = weights-learningRate*gradients\n",
    "        \n",
    "    return weights\n",
    "\n",
    "weights = gradDesc(np.array([1] * inputs.shape[1]), .02, 5000)\n",
    "print(weights)\n",
    "hyp = weights.dot(inputs.T)\n",
    "print (hyp[0:5])\n",
    "print (outputs[0:5])\n",
    "loss = ((hyp-outputs)**2) /len(inputs)\n",
    "loss_tot = np.sum(loss)\n",
    "print(loss_tot)\n",
    "plt.figure()\n",
    "plt.plot(inputs[:,0], hyp, 'k.')\n",
    "plt.plot(inputs[:,0], outputs, 'rx')"
   ]
  },
  {
   "cell_type": "code",
   "execution_count": null,
   "metadata": {
    "collapsed": true
   },
   "outputs": [],
   "source": []
  }
 ],
 "metadata": {
  "kernelspec": {
   "display_name": "Python 3",
   "language": "python",
   "name": "python3"
  },
  "language_info": {
   "codemirror_mode": {
    "name": "ipython",
    "version": 3
   },
   "file_extension": ".py",
   "mimetype": "text/x-python",
   "name": "python",
   "nbconvert_exporter": "python",
   "pygments_lexer": "ipython3",
   "version": "3.6.3"
  }
 },
 "nbformat": 4,
 "nbformat_minor": 2
}
